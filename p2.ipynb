{
 "cells": [
  {
   "cell_type": "markdown",
   "metadata": {},
   "source": [
    "# Scikit-learn Machine Learning with Python and SKlearn\n",
    "## Scikit Learn Machine Learning SVM Tutorial with Python p. 2 - Example\n",
    "### 주소\n",
    "https://www.youtube.com/watch?v=URTZ2jKCgBc&list=PLQVvvaa0QuDd0flgGphKCej-9jp-QdzZ3&index=1\n",
    "\n",
    "### SVM\n",
    "빨간색과 파란색 점으로 label 데이터가 있을 때 group화 하는 알고리즘\n",
    "\n",
    "코드 : from sklearn import svm\n",
    "![title](img/svm.png)\n",
    "#### fit\n",
    "![title](img/fit.png)\n",
    "#### overfit\n",
    "![title](img/overfit.png)\n",
    "\n",
    "### 예제\n",
    "data를 feature에 따라 normalize할 필요가 있음.\n",
    "\n",
    "normalize : 모든 데이터를 같은 scale 바꾸는 과정.\n",
    "\n",
    "clf = svm.SVC(gamma=0.001, C=100)\n",
    "gamma 예측하는 데 영향을 주는 파라미터. \n",
    "작을수록 값을 정확하게 찾을 수 있음.\n",
    "정확하고 빠르게 값을 찾기 위해 적절한 값을 선정해야 함.\n",
    "\n",
    "### Gradient Descent\n",
    "alpha : learning rate, 경사를 내려가는 정도\n",
    "![title](img/gra_good.png)\n",
    "경사를 잘 타고 내려가서 최소값을 잘 찾을 경우 위에처럼 x값을 찾아야 함.\n",
    "![title](img/gra_bad.png)\n",
    "잘못 찾을 경우 다음처럼 발산(diversing)할 수 있음."
   ]
  },
  {
   "cell_type": "code",
   "execution_count": 6,
   "metadata": {
    "collapsed": false,
    "scrolled": true
   },
   "outputs": [
    {
     "name": "stdout",
     "output_type": "stream",
     "text": [
      "[[  0.   0.   5. ...,   0.   0.   0.]\n",
      " [  0.   0.   0. ...,  10.   0.   0.]\n",
      " [  0.   0.   0. ...,  16.   9.   0.]\n",
      " ..., \n",
      " [  0.   0.   1. ...,   6.   0.   0.]\n",
      " [  0.   0.   2. ...,  12.   0.   0.]\n",
      " [  0.   0.  10. ...,  12.   1.   0.]]\n",
      "[0 1 2 ..., 8 9 8]\n",
      "[[  0.   0.   5.  13.   9.   1.   0.   0.]\n",
      " [  0.   0.  13.  15.  10.  15.   5.   0.]\n",
      " [  0.   3.  15.   2.   0.  11.   8.   0.]\n",
      " [  0.   4.  12.   0.   0.   8.   8.   0.]\n",
      " [  0.   5.   8.   0.   0.   9.   8.   0.]\n",
      " [  0.   4.  11.   0.   1.  12.   7.   0.]\n",
      " [  0.   2.  14.   5.  10.  12.   0.   0.]\n",
      " [  0.   0.   6.  13.  10.   0.   0.   0.]]\n"
     ]
    }
   ],
   "source": [
    "import matplotlib.pyplot as plt\n",
    "\n",
    "from sklearn import datasets\n",
    "from sklearn import svm\n",
    "\n",
    "digits = datasets.load_digits()\n",
    "\n",
    "print(digits.data)\n",
    "\n",
    "print(digits.target)\n",
    "\n",
    "print(digits.images[0])"
   ]
  },
  {
   "cell_type": "code",
   "execution_count": 9,
   "metadata": {
    "collapsed": false
   },
   "outputs": [
    {
     "name": "stdout",
     "output_type": "stream",
     "text": [
      "1797\n",
      "Prediction: [8]\n"
     ]
    },
    {
     "data": {
      "image/png": "[encoded data removed]",
      "text/plain": [
       "<matplotlib.figure.Figure at 0x105b228d0>"
      ]
     },
     "metadata": {},
     "output_type": "display_data"
    }
   ],
   "source": [
    "clf = svm.SVC(gamma=0.001, C=100)\n",
    "\n",
    "print(len(digits.data))\n",
    "\n",
    "x,y = digits.data[:-1], digits.target[:-1]   # data training 1\n",
    "clf.fit(x,y)    # data training 2\n",
    "\n",
    "#print('Prediction:', clf.predict(digits.data[-1]))\n",
    "print('Prediction:', clf.predict(digits.data[-1].reshape(1,-1)))\n",
    "\n",
    "%matplotlib inline\n",
    "plt.imshow(digits.images[-1], cmap=plt.cm.gray_r, interpolation=\"nearest\")\n",
    "plt.show()"
   ]
  },
  {
   "cell_type": "code",
   "execution_count": 13,
   "metadata": {
    "collapsed": false
   },
   "outputs": [
    {
     "name": "stdout",
     "output_type": "stream",
     "text": [
      "Prediction: [9]\n"
     ]
    },
    {
     "data": {
      "image/png": "[encoded data removed]",
      "text/plain": [
       "<matplotlib.figure.Figure at 0x10d5d0a20>"
      ]
     },
     "metadata": {},
     "output_type": "display_data"
    }
   ],
   "source": [
    "x,y = digits.data[:-10], digits.target[:-10]\n",
    "clf.fit(x,y)\n",
    "\n",
    "print('Prediction:', clf.predict(digits.data[-2].reshape(1,-1)))\n",
    "\n",
    "%matplotlib inline\n",
    "plt.imshow(digits.images[-2], cmap=plt.cm.gray_r, interpolation=\"nearest\")\n",
    "plt.show()"
   ]
  },
  {
   "cell_type": "code",
   "execution_count": null,
   "metadata": {
    "collapsed": true
   },
   "outputs": [],
   "source": []
  }
 ],
 "metadata": {
  "kernelspec": {
   "display_name": "Python [Root]",
   "language": "python",
   "name": "Python [Root]"
  },
  "language_info": {
   "codemirror_mode": {
    "name": "ipython",
    "version": 3
   },
   "file_extension": ".py",
   "mimetype": "text/x-python",
   "name": "python",
   "nbconvert_exporter": "python",
   "pygments_lexer": "ipython3",
   "version": "3.5.2"
  }
 },
 "nbformat": 4,
 "nbformat_minor": 0
}
