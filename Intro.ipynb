{
 "cells": [
  {
   "cell_type": "markdown",
   "metadata": {},
   "source": [
    "# Scikit-learn Machine Learning with Python and SKlearn\n",
    "## Python Machine learning with SKLearn Tutorial for Investing - Intro\n",
    "### 주소\n",
    "https://www.youtube.com/watch?v=URTZ2jKCgBc&list=PLQVvvaa0QuDd0flgGphKCej-9jp-QdzZ3&index=1\n",
    "\n",
    "### 머신러닝이란?\n",
    "supervised learning : classfication\n",
    "unsupervised learning : clustering\n",
    "데이터를 머신러닝에 던지면 wonderful insight를 얻을 수 있음.\n",
    "\n",
    "### 머신러닝 요소?\n",
    "scikit-learn에서 알고리즘은 찾아서 사용하면 됨.\n",
    "시간이 오래드는 것\n",
    "acquring data => acquiring labeled data\n",
    "  얻는 방법 : yahoo, sec.gov\n",
    "organizing data\n",
    "어려운 부분\n",
    "structuring data, labeling data\n",
    "\n",
    "###필요한 라이브러리\n",
    "matplot-lib, numpy, scikit-learn"
   ]
  },
  {
   "cell_type": "code",
   "execution_count": 1,
   "metadata": {
    "collapsed": true
   },
   "outputs": [],
   "source": [
    "import matplotlib\n",
    "import numpy\n",
    "import sklearn"
   ]
  },
  {
   "cell_type": "code",
   "execution_count": null,
   "metadata": {
    "collapsed": true
   },
   "outputs": [],
   "source": []
  }
 ],
 "metadata": {
  "anaconda-cloud": {},
  "kernelspec": {
   "display_name": "Python [Root]",
   "language": "python",
   "name": "Python [Root]"
  },
  "language_info": {
   "codemirror_mode": {
    "name": "ipython",
    "version": 3
   },
   "file_extension": ".py",
   "mimetype": "text/x-python",
   "name": "python",
   "nbconvert_exporter": "python",
   "pygments_lexer": "ipython3",
   "version": "3.5.2"
  }
 },
 "nbformat": 4,
 "nbformat_minor": 0
}
